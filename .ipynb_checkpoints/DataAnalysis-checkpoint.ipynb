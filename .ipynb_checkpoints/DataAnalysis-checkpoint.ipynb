{
 "cells": [
  {
   "cell_type": "code",
   "execution_count": 1,
   "metadata": {},
   "outputs": [
    {
     "ename": "ModuleNotFoundError",
     "evalue": "No module named 'seaborn'",
     "output_type": "error",
     "traceback": [
      "\u001b[0;31m---------------------------------------------------------------------------\u001b[0m",
      "\u001b[0;31mModuleNotFoundError\u001b[0m                       Traceback (most recent call last)",
      "\u001b[0;32m<ipython-input-1-5e34985af1c1>\u001b[0m in \u001b[0;36m<module>\u001b[0;34m\u001b[0m\n\u001b[1;32m      3\u001b[0m \u001b[0;32mimport\u001b[0m \u001b[0mnumpy\u001b[0m \u001b[0;32mas\u001b[0m \u001b[0mnp\u001b[0m\u001b[0;34m\u001b[0m\u001b[0;34m\u001b[0m\u001b[0m\n\u001b[1;32m      4\u001b[0m \u001b[0;32mimport\u001b[0m \u001b[0mmatplotlib\u001b[0m\u001b[0;34m.\u001b[0m\u001b[0mpyplot\u001b[0m \u001b[0;32mas\u001b[0m \u001b[0mplt\u001b[0m\u001b[0;34m\u001b[0m\u001b[0;34m\u001b[0m\u001b[0m\n\u001b[0;32m----> 5\u001b[0;31m \u001b[0;32mimport\u001b[0m \u001b[0mseaborn\u001b[0m \u001b[0;32mas\u001b[0m \u001b[0msns\u001b[0m\u001b[0;34m\u001b[0m\u001b[0;34m\u001b[0m\u001b[0m\n\u001b[0m\u001b[1;32m      6\u001b[0m \u001b[0;32mimport\u001b[0m \u001b[0mplotly\u001b[0m\u001b[0;34m.\u001b[0m\u001b[0mgraph_objects\u001b[0m \u001b[0;32mas\u001b[0m \u001b[0mgo\u001b[0m\u001b[0;34m\u001b[0m\u001b[0;34m\u001b[0m\u001b[0m\n\u001b[1;32m      7\u001b[0m \u001b[0;34m\u001b[0m\u001b[0m\n",
      "\u001b[0;31mModuleNotFoundError\u001b[0m: No module named 'seaborn'"
     ]
    }
   ],
   "source": [
    "\n",
    "import pandas as pd\n",
    "import os\n",
    "import numpy as np\n",
    "import matplotlib.pyplot as plt\n",
    "import seaborn as sns\n",
    "import plotly.graph_objects as go\n",
    "\n",
    "\n",
    "# graphs are included in the notebook\n",
    "%matplotlib inline\n",
    "plt.rcParams['figure.figsize'] = (10, 6)\n",
    "plt.style.use('ggplot')\n",
    "import plotly.express as px"
   ]
  },
  {
   "cell_type": "markdown",
   "metadata": {},
   "source": [
    "# Import data\n",
    "\n",
    "- Merge Dataframes into 1 \n",
    "- Make new columns corresponding to the parameters: object, sampling function, sphere radius, distance, time"
   ]
  },
  {
   "cell_type": "code",
   "execution_count": null,
   "metadata": {},
   "outputs": [],
   "source": [
    "def get_sampling_function_name(function):\n",
    "    return function.split(\" \")[2].strip()"
   ]
  },
  {
   "cell_type": "code",
   "execution_count": null,
   "metadata": {},
   "outputs": [],
   "source": [
    "folder_path = 'LoCoMoExperimentsSamplingFunction/'\n",
    "all = pd.DataFrame()\n",
    "for filename in os.listdir(folder_path):\n",
    "    if filename.endswith('.csv'):\n",
    "        file_path = os.path.join(folder_path, filename)\n",
    "        df = pd.read_csv(file_path, index_col=0)\n",
    "        df = df.dropna()\n",
    "\n",
    "        params = os.path.splitext(filename)[0]\n",
    "        params = params.split(\",\")\n",
    "\n",
    "        object = params[0]\n",
    "        df.insert(0, 'object', params[0])\n",
    "        df.insert(1, 'sample_function', get_sampling_function_name(params[1]))\n",
    "        df.insert(2, 'sphere_radius', params[2]) \n",
    "        df.insert(3, 'positions_sampled', params[3]) \n",
    "        df.insert(4, 'distance', params[4])\n",
    "        df.insert(5, 'duration', params[5])\n",
    "        all = pd.concat([all, df], ignore_index=True)\n",
    "\n",
    "all['sphere_radius'] = all['sphere_radius'].astype(int)\n",
    "all['distance'] = all['distance'].astype(int)\n",
    "all['duration'] = all['duration'].astype(float)\n",
    "all['Probabilities'] = all['Probabilities'].astype(float)\n",
    " \n"
   ]
  },
  {
   "cell_type": "code",
   "execution_count": null,
   "metadata": {},
   "outputs": [],
   "source": [
    "all['hours'] = all['duration'] / 3600"
   ]
  },
  {
   "cell_type": "code",
   "execution_count": null,
   "metadata": {},
   "outputs": [],
   "source": [
    "all.head()\n",
    "\n"
   ]
  },
  {
   "cell_type": "code",
   "execution_count": null,
   "metadata": {},
   "outputs": [],
   "source": [
    "max(all['Probabilities'])"
   ]
  },
  {
   "cell_type": "markdown",
   "metadata": {},
   "source": [
    "# Exploratory Data Analysis"
   ]
  },
  {
   "cell_type": "code",
   "execution_count": null,
   "metadata": {},
   "outputs": [],
   "source": [
    "# all = all[(all['Probabilities'] >= 0) & (all['Probabilities'] <= 0.1)]\n",
    "plt.hist(all['Probabilities'], bins=100) \n",
    "\n",
    "# Set labels and title for the plot\n",
    "plt.xlabel('LoCoMo Probability Scores')\n",
    "plt.ylabel('Frequency')\n",
    "plt.title('Distribution of Scores')\n",
    "\n",
    "# Show the plot\n",
    "plt.show()\n"
   ]
  },
  {
   "cell_type": "markdown",
   "metadata": {},
   "source": [
    "## Sampling method  \n",
    "Divide all the dataframes depending on the method used \n",
    "- Random sampling\n",
    "- Opposite normal sampling"
   ]
  },
  {
   "cell_type": "code",
   "execution_count": null,
   "metadata": {},
   "outputs": [],
   "source": [
    "random_sampling = all[all.sample_function=='sample_finger_poses_random']\n",
    "opposite_normal_sampling = all[all.sample_function=='sample_finger_poses_opposite']"
   ]
  },
  {
   "cell_type": "code",
   "execution_count": null,
   "metadata": {},
   "outputs": [],
   "source": [
    "cmap = 'viridis'\n",
    "\n",
    "plt.hist(random_sampling['Probabilities'], bins=100, label='random', alpha=0.6, color='red')\n",
    "plt.hist(opposite_normal_sampling['Probabilities'], bins=100, label='opposite', alpha=0.6, color='blue') \n",
    "\n",
    "# Set labels and title for the plot\n",
    "plt.xlabel('LoCoMo Probability Scores')\n",
    "plt.ylabel('Frequency')\n",
    "plt.title('Distribution of Scores')\n",
    "plt.legend(loc='best')\n",
    "# Show the plot\n",
    "plt.show()\n"
   ]
  },
  {
   "cell_type": "code",
   "execution_count": null,
   "metadata": {},
   "outputs": [],
   "source": [
    "top_10_random = random_sampling.nlargest(500, 'Probabilities')\n",
    "top_10_opposite = opposite_normal_sampling.nlargest(500, 'Probabilities')\n"
   ]
  },
  {
   "cell_type": "code",
   "execution_count": null,
   "metadata": {},
   "outputs": [],
   "source": [
    "plt.hist(top_10_random['Probabilities'], label='random', alpha=0.6, color=plt.get_cmap(cmap)(.5))\n",
    "# plt.hist(random_sampling['Probabilities'], bins=100, label='random', alpha=0.6)\n",
    "\n",
    "plt.hist(top_10_opposite['Probabilities'], label='opposite', alpha=0.6, color=plt.get_cmap(cmap)(.8)) \n",
    "\n",
    "# Set labels and title for the plot\n",
    "plt.xlabel('LoCoMo Probability Scores')\n",
    "plt.ylabel('Frequency')\n",
    "plt.title('Distribution of Scores')\n",
    "plt.legend(loc='best')\n",
    "# Show the plot\n",
    "plt.show()\n"
   ]
  },
  {
   "cell_type": "markdown",
   "metadata": {},
   "source": [
    "## Summary Statistics"
   ]
  },
  {
   "cell_type": "code",
   "execution_count": null,
   "metadata": {},
   "outputs": [],
   "source": [
    "summary_stats = all.groupby(['sample_function', 'sphere_radius', 'distance']).agg(\n",
    "    Mean_Score=('Probabilities', 'mean'),\n",
    "    Median_Score=('Probabilities', 'median'),\n",
    "    Std_Dev=('Probabilities', 'std'),\n",
    "    Min_Score=('Probabilities', 'min'),\n",
    "    Max_Score=('Probabilities', 'max'),\n",
    "    Q1=('Probabilities', lambda x: x.quantile(0.25)),\n",
    "    Q3=('Probabilities', lambda x: x.quantile(0.75)),\n",
    "    IQR=('Probabilities', lambda x: x.quantile(0.75) - x.quantile(0.25))\n",
    ").reset_index()"
   ]
  },
  {
   "cell_type": "code",
   "execution_count": null,
   "metadata": {},
   "outputs": [],
   "source": [
    "summary_stats"
   ]
  },
  {
   "cell_type": "markdown",
   "metadata": {},
   "source": [
    "### Violin plot"
   ]
  },
  {
   "cell_type": "code",
   "execution_count": null,
   "metadata": {},
   "outputs": [],
   "source": [
    "fig = px.violin(all, y='Probabilities', color='sample_function', violinmode='overlay')\n",
    "fig.show()"
   ]
  },
  {
   "cell_type": "markdown",
   "metadata": {},
   "source": [
    "**Sphere Radius**"
   ]
  },
  {
   "cell_type": "code",
   "execution_count": null,
   "metadata": {},
   "outputs": [],
   "source": [
    "\n",
    "fig = go.Figure()\n",
    "\n",
    "fig.add_trace(go.Violin(\n",
    "    x=all['sphere_radius'][ all['sample_function'] == 'sample_finger_poses_opposite' ],\n",
    "                        y=all['Probabilities'][ all['sample_function'] == 'sample_finger_poses_opposite' ],\n",
    "                        legendgroup='sample_finger_poses_opposite', scalegroup='sample_finger_poses_opposite', name='sample_finger_poses_opposite',\n",
    "                        side='negative',\n",
    "                        line_color='lightseagreen')\n",
    "             )\n",
    "fig.add_trace(go.Violin(\n",
    "    x=all['sphere_radius'][ all['sample_function'] == 'sample_finger_poses_random' ],\n",
    "                        y=all['Probabilities'][ all['sample_function'] == 'sample_finger_poses_random' ],\n",
    "                        legendgroup='sample_finger_poses_random', scalegroup='sample_finger_poses_random', name='sample_finger_poses_random',\n",
    "                        side='positive',\n",
    "                        line_color='mediumpurple')\n",
    "             )\n",
    "fig.update_traces(meanline_visible=True, points=False)\n",
    "fig.update_layout(violingap=0, violinmode='overlay')\n",
    "fig.show()"
   ]
  },
  {
   "cell_type": "markdown",
   "metadata": {},
   "source": [
    "**Distance**  \n",
    "~to fix later~"
   ]
  },
  {
   "cell_type": "code",
   "execution_count": null,
   "metadata": {},
   "outputs": [],
   "source": [
    "fig = go.Figure()\n",
    "\n",
    "fig.add_trace(go.Violin(\n",
    "    x=all['distance'][ all['sample_function'] == 'sample_finger_poses_opposite' ],\n",
    "                        y=all['Probabilities'][ all['sample_function'] == 'sample_finger_poses_opposite' ],\n",
    "                        legendgroup='sample_finger_poses_opposite', scalegroup='sample_finger_poses_opposite', name='sample_finger_poses_opposite',\n",
    "                        side='negative',\n",
    "                        line_color='lightseagreen')\n",
    "             )\n",
    "fig.add_trace(go.Violin(\n",
    "    x=all['distance'][ all['sample_function'] == 'sample_finger_poses_random' ],\n",
    "                        y=all['Probabilities'][ all['sample_function'] == 'sample_finger_poses_random' ],\n",
    "                        legendgroup='sample_finger_poses_random', scalegroup='sample_finger_poses_random', name='sample_finger_poses_random',\n",
    "                        side='positive',\n",
    "                        line_color='mediumpurple')\n",
    "             )\n",
    "fig.update_traces(meanline_visible=True, points=False)\n",
    "fig.update_layout(violingap=0, violinmode='overlay')\n",
    "fig.show()"
   ]
  },
  {
   "cell_type": "markdown",
   "metadata": {},
   "source": [
    "**All**"
   ]
  },
  {
   "cell_type": "code",
   "execution_count": null,
   "metadata": {},
   "outputs": [],
   "source": [
    "fig = go.Figure()\n",
    "\n",
    "distance_values = np.sort(all['distance'].unique())\n",
    "\n",
    "colors = [['mediumpurple', 'gold'], ['deepskyblue', 'orange'], ['palegreen', 'deeppink']]\n",
    "\n",
    "for distance, color in zip(distance_values, colors):\n",
    "    fig.add_trace(go.Violin(\n",
    "        y=all['Probabilities'][(all['distance'] == distance) & (all['sample_function'] == 'sample_finger_poses_opposite')],\n",
    "        x=all['sphere_radius'][(all['distance'] == distance) & (all['sample_function'] == 'sample_finger_poses_opposite')],\n",
    "        legendgroup=str(distance),\n",
    "        scalegroup=str(distance),\n",
    "        name='Distance ' + str(distance),\n",
    "        side='positive',\n",
    "        line_color = color[0])\n",
    "    )\n",
    "    fig.add_trace(go.Violin(\n",
    "        x=all['sphere_radius'][(all['distance'] == distance) & (all['sample_function'] == 'sample_finger_poses_random')],\n",
    "        y=all['Probabilities'][(all['distance'] == distance) & (all['sample_function'] == 'sample_finger_poses_random')],\n",
    "        legendgroup=str(distance),\n",
    "        scalegroup=str(distance),\n",
    "        name='Distance ' + str(distance),\n",
    "        side='negative',\n",
    "        line_color = color[1])\n",
    "    )\n",
    "\n",
    "fig.update_traces(meanline_visible=True, points=False)\n",
    "fig.update_layout(violingap=0, violinmode='overlay')\n",
    "# fig.update_layout(violin_gap=0.1)  # Adjust the violin_gap value as desired\n",
    "\n",
    "fig.show()"
   ]
  },
  {
   "cell_type": "code",
   "execution_count": null,
   "metadata": {},
   "outputs": [],
   "source": [
    "fig = go.Figure()\n",
    "\n",
    "distance_values = np.sort(all['distance'].unique())\n",
    "\n",
    "colors = [['mediumpurple', 'gold'], ['deepskyblue', 'orange'], ['palegreen', 'deeppink']]\n",
    "\n",
    "for distance, color in zip(distance_values, colors):\n",
    "    fig.add_trace(go.Violin(\n",
    "        y=all['Probabilities'][(all['distance'] == distance) & (all['sample_function'] == 'sample_finger_poses_opposite')],\n",
    "        x=all['sphere_radius'][(all['distance'] == distance) & (all['sample_function'] == 'sample_finger_poses_opposite')],\n",
    "        legendgroup=str(distance),\n",
    "        scalegroup=str(distance),\n",
    "        name='Distance ' + str(distance),\n",
    "        side='positive',\n",
    "        line_color = color[0])\n",
    "    )\n",
    "    # fig.add_trace(go.Violin(\n",
    "    #     x=all['sphere_radius'][(all['distance'] == distance) & (all['sample_function'] == 'sample_finger_poses_random')],\n",
    "    #     y=all['Probabilities'][(all['distance'] == distance) & (all['sample_function'] == 'sample_finger_poses_random')],\n",
    "    #     legendgroup=str(distance),\n",
    "    #     scalegroup=str(distance),\n",
    "    #     name='Distance ' + str(distance),\n",
    "    #     side='negative',\n",
    "    #     line_color = color[1])\n",
    "    # )\n",
    "\n",
    "fig.update_traces(meanline_visible=True, points=False)\n",
    "fig.update_layout(violingap=0, violinmode='overlay')\n",
    "# fig.update_layout(violin_gap=0.1)  # Adjust the violin_gap value as desired\n",
    "\n",
    "fig.show()"
   ]
  },
  {
   "cell_type": "markdown",
   "metadata": {},
   "source": [
    "**For time**"
   ]
  },
  {
   "cell_type": "code",
   "execution_count": null,
   "metadata": {},
   "outputs": [],
   "source": [
    "fig = go.Figure()\n",
    "\n",
    "distance_values = np.sort(all['distance'].unique())\n",
    "\n",
    "colors = [['mediumpurple', 'gold'], ['deepskyblue', 'orange'], ['palegreen', 'deeppink']]\n",
    "\n",
    "for distance, color in zip(distance_values, colors):\n",
    "    fig.add_trace(go.Violin(\n",
    "        y=all['hours'][(all['distance'] == distance) & (all['sample_function'] == 'sample_finger_poses_opposite')],\n",
    "        x=all['sphere_radius'][(all['distance'] == distance) & (all['sample_function'] == 'sample_finger_poses_opposite')],\n",
    "        legendgroup=str(distance),\n",
    "        scalegroup=str(distance),\n",
    "        name='Distance ' + str(distance),\n",
    "        side='positive',\n",
    "        line_color = color[0])\n",
    "    )\n",
    "    fig.add_trace(go.Violin(\n",
    "        x=all['sphere_radius'][(all['distance'] == distance) & (all['sample_function'] == 'sample_finger_poses_random')],\n",
    "        y=all['hours'][(all['distance'] == distance) & (all['sample_function'] == 'sample_finger_poses_random')],\n",
    "        legendgroup=str(distance),\n",
    "        scalegroup=str(distance),\n",
    "        name='Distance ' + str(distance),\n",
    "        side='negative',\n",
    "        line_color = color[1])\n",
    "    )\n",
    "\n",
    "fig.update_traces(meanline_visible=True, points=False)\n",
    "fig.update_layout(violingap=0, violinmode='overlay')\n",
    "# fig.update_layout(violin_gap=0.1)  # Adjust the violin_gap value as desired\n",
    "\n",
    "fig.show()"
   ]
  },
  {
   "cell_type": "markdown",
   "metadata": {},
   "source": [
    "**First conclusion:**\n",
    "- Mean most of the time better for the Opposite sampling strategy\n",
    "- Distance is best when smaller - good for computation because loops over a lower amount of points in the point cloud\n",
    "- Sphere radius higher - best for opposite strategy -> incerasing"
   ]
  },
  {
   "cell_type": "markdown",
   "metadata": {},
   "source": [
    "# Randomization tests - question mark"
   ]
  },
  {
   "cell_type": "markdown",
   "metadata": {},
   "source": [
    "# Best Parameter Combination\n",
    "\n",
    "Combination of parameter leading to: \n",
    "- **_Probabilty results_**\n",
    "- **_Timing_**   \n",
    "\n",
    "Best trade-off for:\n",
    "- Probability results (to maximise) and timing (to minimise)\n",
    "- Object type\n",
    "\n",
    "Investigate the following:\n",
    "- Mean\n",
    "- Median\n",
    "- Max\n",
    "- Best 10"
   ]
  },
  {
   "cell_type": "markdown",
   "metadata": {},
   "source": [
    "## Probability Results"
   ]
  },
  {
   "cell_type": "code",
   "execution_count": null,
   "metadata": {},
   "outputs": [],
   "source": [
    "summary_stats"
   ]
  },
  {
   "cell_type": "markdown",
   "metadata": {},
   "source": [
    "### Mean"
   ]
  },
  {
   "cell_type": "code",
   "execution_count": null,
   "metadata": {},
   "outputs": [],
   "source": [
    "df_value_random = summary_stats[summary_stats['sample_function'] == 'sample_finger_poses_random']\n",
    "df_value_opposite = summary_stats[summary_stats['sample_function'] == 'sample_finger_poses_opposite']\n",
    "\n",
    "# Create pivot tables for both DataFrames\n",
    "pivot_df_value_random = df_value_random.pivot(index='distance', columns='sphere_radius', values='Mean_Score')\n",
    "pivot_df_value_opposite = df_value_opposite.pivot(index='distance', columns='sphere_radius', values='Mean_Score')\n",
    "\n",
    "# Set up the matplotlib figure with 1 row and 2 columns\n",
    "fig, axes = plt.subplots(1, 2, figsize=(12, 6))\n",
    "\n",
    "# Create the first heatmap for col3 = 0 using seaborn\n",
    "sns.heatmap(data=pivot_df_value_random, annot=True, cmap='GnBu', ax=axes[0], vmin=0, vmax=1)\n",
    "axes[0].set_title('Heatmap for sample function = Random')\n",
    "\n",
    "# Create the second heatmap for col3 = 1 using seaborn\n",
    "sns.heatmap(data=pivot_df_value_opposite, annot=True, cmap='GnBu', ax=axes[1], vmin=0, vmax=1)\n",
    "axes[1].set_title('Heatmap for sample function = Opposite')\n",
    "\n",
    "# Adjust the layout\n",
    "plt.tight_layout()\n",
    "\n",
    "# Show the plot\n",
    "plt.show()"
   ]
  },
  {
   "cell_type": "markdown",
   "metadata": {},
   "source": [
    "### Median"
   ]
  },
  {
   "cell_type": "code",
   "execution_count": null,
   "metadata": {},
   "outputs": [],
   "source": [
    "df_value_random = summary_stats[summary_stats['sample_function'] == 'sample_finger_poses_random']\n",
    "df_value_opposite = summary_stats[summary_stats['sample_function'] == 'sample_finger_poses_opposite']\n",
    "\n",
    "# Create pivot tables for both DataFrames\n",
    "pivot_df_value_random = df_value_random.pivot(index='distance', columns='sphere_radius', values='Median_Score')\n",
    "pivot_df_value_opposite = df_value_opposite.pivot(index='distance', columns='sphere_radius', values='Median_Score')\n",
    "\n",
    "# Set up the matplotlib figure with 1 row and 2 columns\n",
    "fig, axes = plt.subplots(1, 2, figsize=(12, 6))\n",
    "\n",
    "# Create the first heatmap for col3 = 0 using seaborn\n",
    "sns.heatmap(data=pivot_df_value_random, annot=True, cmap='GnBu', ax=axes[0], vmin=0, vmax=1)\n",
    "axes[0].set_title('Heatmap for sample function = Random')\n",
    "\n",
    "# Create the second heatmap for col3 = 1 using seaborn\n",
    "sns.heatmap(data=pivot_df_value_opposite, annot=True, cmap='GnBu', ax=axes[1], vmin=0, vmax=1)\n",
    "axes[1].set_title('Heatmap for sample function = Opposite')\n",
    "\n",
    "# Adjust the layout\n",
    "plt.tight_layout()\n",
    "\n",
    "# Show the plot\n",
    "plt.show()"
   ]
  },
  {
   "cell_type": "markdown",
   "metadata": {},
   "source": [
    "### Max"
   ]
  },
  {
   "cell_type": "code",
   "execution_count": null,
   "metadata": {},
   "outputs": [],
   "source": [
    "df_value_random = summary_stats[summary_stats['sample_function'] == 'sample_finger_poses_random']\n",
    "df_value_opposite = summary_stats[summary_stats['sample_function'] == 'sample_finger_poses_opposite']\n",
    "\n",
    "# Create pivot tables for both DataFrames\n",
    "pivot_df_value_random = df_value_random.pivot(index='distance', columns='sphere_radius', values='Max_Score')\n",
    "pivot_df_value_opposite = df_value_opposite.pivot(index='distance', columns='sphere_radius', values='Max_Score')\n",
    "\n",
    "# Set up the matplotlib figure with 1 row and 2 columns\n",
    "fig, axes = plt.subplots(1, 2, figsize=(12, 6))\n",
    "\n",
    "# Create the first heatmap for col3 = 0 using seaborn\n",
    "sns.heatmap(data=pivot_df_value_random, annot=True, cmap='GnBu', ax=axes[0], vmin=0, vmax=1)\n",
    "axes[0].set_title('Heatmap for sample function = Random')\n",
    "\n",
    "# Create the second heatmap for col3 = 1 using seaborn\n",
    "sns.heatmap(data=pivot_df_value_opposite, annot=True, cmap='GnBu', ax=axes[1], vmin=0, vmax=1)\n",
    "axes[1].set_title('Heatmap for sample function = Opposite')\n",
    "\n",
    "# Adjust the layout\n",
    "plt.tight_layout()\n",
    "\n",
    "# Show the plot\n",
    "plt.show()"
   ]
  },
  {
   "cell_type": "markdown",
   "metadata": {},
   "source": [
    "### Best 100"
   ]
  },
  {
   "cell_type": "code",
   "execution_count": null,
   "metadata": {},
   "outputs": [],
   "source": [
    "best_100_random = all[all.sample_function=='sample_finger_poses_random'].nlargest(100, 'Probabilities')\n",
    "best_100_opposite = all[all.sample_function=='sample_finger_poses_opposite'].nlargest(100, 'Probabilities')\n",
    "\n",
    "summary_stats_best_100_random = best_100_random.groupby(['sample_function', 'sphere_radius', 'distance']).agg(\n",
    "    Mean_Score=('Probabilities', 'mean'),\n",
    "    Median_Score=('Probabilities', 'median'),\n",
    "    Std_Dev=('Probabilities', 'std'),\n",
    "    Min_Score=('Probabilities', 'min'),\n",
    "    Max_Score=('Probabilities', 'max'),\n",
    "    Q1=('Probabilities', lambda x: x.quantile(0.25)),\n",
    "    Q3=('Probabilities', lambda x: x.quantile(0.75)),\n",
    "    IQR=('Probabilities', lambda x: x.quantile(0.75) - x.quantile(0.25))\n",
    ").reset_index()\n",
    "\n",
    "summary_stats_best_100_opposite = best_100_opposite.groupby(['sample_function', 'sphere_radius', 'distance']).agg(\n",
    "    Mean_Score=('Probabilities', 'mean'),\n",
    "    Median_Score=('Probabilities', 'median'),\n",
    "    Std_Dev=('Probabilities', 'std'),\n",
    "    Min_Score=('Probabilities', 'min'),\n",
    "    Max_Score=('Probabilities', 'max'),\n",
    "    Q1=('Probabilities', lambda x: x.quantile(0.25)),\n",
    "    Q3=('Probabilities', lambda x: x.quantile(0.75)),\n",
    "    IQR=('Probabilities', lambda x: x.quantile(0.75) - x.quantile(0.25))\n",
    ").reset_index()"
   ]
  },
  {
   "cell_type": "markdown",
   "metadata": {},
   "source": [
    "**1. Mean**"
   ]
  },
  {
   "cell_type": "code",
   "execution_count": null,
   "metadata": {},
   "outputs": [],
   "source": [
    "df_value_random_100 = summary_stats_best_100_random[summary_stats_best_100_random['sample_function'] == 'sample_finger_poses_random']\n",
    "df_value_opposite_100 = summary_stats_best_100_opposite[summary_stats_best_100_opposite['sample_function'] == 'sample_finger_poses_opposite']\n",
    "\n",
    "# Create pivot tables for both DataFrames\n",
    "pivot_df_value_random_100 = df_value_random_100.pivot(index='distance', columns='sphere_radius', values='Mean_Score')\n",
    "pivot_df_value_opposite_100 = df_value_opposite_100.pivot(index='distance', columns='sphere_radius', values='Mean_Score')\n",
    "\n",
    "# Set up the matplotlib figure with 1 row and 2 columns\n",
    "fig, axes = plt.subplots(1, 2, figsize=(12, 6))\n",
    "\n",
    "# Create the first heatmap for col3 = 0 using seaborn\n",
    "sns.heatmap(data=pivot_df_value_random_100, annot=True, cmap='GnBu', ax=axes[0], vmin=0, vmax=1)\n",
    "axes[0].set_title('Heatmap for sample function = Random')\n",
    "\n",
    "# Create the second heatmap for col3 = 1 using seaborn\n",
    "sns.heatmap(data=pivot_df_value_opposite_100, annot=True, cmap='GnBu', ax=axes[1], vmin=0, vmax=1)\n",
    "axes[1].set_title('Heatmap for sample function = Opposite')\n",
    "\n",
    "# Adjust the layout\n",
    "plt.tight_layout()\n",
    "\n",
    "# Show the plot\n",
    "plt.show()"
   ]
  },
  {
   "cell_type": "markdown",
   "metadata": {},
   "source": [
    "**2. Median**"
   ]
  },
  {
   "cell_type": "code",
   "execution_count": null,
   "metadata": {},
   "outputs": [],
   "source": [
    "df_value_random_100 = summary_stats_best_100_random[summary_stats_best_100_random['sample_function'] == 'sample_finger_poses_random']\n",
    "df_value_opposite_100 = summary_stats_best_100_opposite[summary_stats_best_100_opposite['sample_function'] == 'sample_finger_poses_opposite']\n",
    "\n",
    "# Create pivot tables for both DataFrames\n",
    "pivot_df_value_random_100 = df_value_random_100.pivot(index='distance', columns='sphere_radius', values='Median_Score')\n",
    "pivot_df_value_opposite_100 = df_value_opposite_100.pivot(index='distance', columns='sphere_radius', values='Median_Score')\n",
    "\n",
    "# Set up the matplotlib figure with 1 row and 2 columns\n",
    "fig, axes = plt.subplots(1, 2, figsize=(12, 6))\n",
    "\n",
    "# Create the first heatmap for col3 = 0 using seaborn\n",
    "sns.heatmap(data=pivot_df_value_random_100, annot=True, cmap='GnBu', ax=axes[0], vmin=0, vmax=1)\n",
    "axes[0].set_title('Heatmap for sample function = Random')\n",
    "\n",
    "# Create the second heatmap for col3 = 1 using seaborn\n",
    "sns.heatmap(data=pivot_df_value_opposite_100, annot=True, cmap='GnBu', ax=axes[1], vmin=0, vmax=1)\n",
    "axes[1].set_title('Heatmap for sample function = Opposite')\n",
    "\n",
    "# Adjust the layout\n",
    "plt.tight_layout()\n",
    "\n",
    "# Show the plot\n",
    "plt.show()"
   ]
  },
  {
   "cell_type": "markdown",
   "metadata": {},
   "source": [
    "**3. Max**"
   ]
  },
  {
   "cell_type": "code",
   "execution_count": null,
   "metadata": {},
   "outputs": [],
   "source": [
    "df_value_random_100 = summary_stats_best_100_random[summary_stats_best_100_random['sample_function'] == 'sample_finger_poses_random']\n",
    "df_value_opposite_100 = summary_stats_best_100_opposite[summary_stats_best_100_opposite['sample_function'] == 'sample_finger_poses_opposite']\n",
    "\n",
    "# Create pivot tables for both DataFrames\n",
    "pivot_df_value_random_100 = df_value_random_100.pivot(index='distance', columns='sphere_radius', values='Max_Score')\n",
    "pivot_df_value_opposite_100 = df_value_opposite_100.pivot(index='distance', columns='sphere_radius', values='Max_Score')\n",
    "\n",
    "# Set up the matplotlib figure with 1 row and 2 columns\n",
    "fig, axes = plt.subplots(1, 2, figsize=(12, 6))\n",
    "\n",
    "# Create the first heatmap for col3 = 0 using seaborn\n",
    "sns.heatmap(data=pivot_df_value_random_100, annot=True, cmap='GnBu', ax=axes[0], vmin=0, vmax=1)\n",
    "axes[0].set_title('Heatmap for sample function = Random')\n",
    "\n",
    "# Create the second heatmap for col3 = 1 using seaborn\n",
    "sns.heatmap(data=pivot_df_value_opposite_100, annot=True, cmap='GnBu', ax=axes[1], vmin=0, vmax=1)\n",
    "axes[1].set_title('Heatmap for sample function = Opposite')\n",
    "\n",
    "# Adjust the layout\n",
    "plt.tight_layout()\n",
    "\n",
    "# Show the plot\n",
    "plt.show()"
   ]
  },
  {
   "cell_type": "markdown",
   "metadata": {},
   "source": [
    "## Time "
   ]
  },
  {
   "cell_type": "code",
   "execution_count": null,
   "metadata": {},
   "outputs": [],
   "source": [
    "time_stats = all.groupby(['sample_function', 'sphere_radius', 'distance']).agg(\n",
    "    Mean_Score=('hours', 'mean'),\n",
    "    Median_Score=('hours', 'median'),\n",
    "    Std_Dev=('hours', 'std'),\n",
    "    Min_Score=('hours', 'min'),\n",
    "    Max_Score=('hours', 'max'),\n",
    "    Q1=('hours', lambda x: x.quantile(0.25)),\n",
    "    Q3=('hours', lambda x: x.quantile(0.75)),\n",
    "    IQR=('hours', lambda x: x.quantile(0.75) - x.quantile(0.25))\n",
    ").reset_index()\n",
    "\n",
    "time_value_random = time_stats[time_stats['sample_function'] == 'sample_finger_poses_random']\n",
    "time_value_opposite = time_stats[time_stats['sample_function'] == 'sample_finger_poses_opposite']\n",
    "\n",
    "time_stats.head(5)"
   ]
  },
  {
   "cell_type": "markdown",
   "metadata": {},
   "source": [
    "### Mean"
   ]
  },
  {
   "cell_type": "code",
   "execution_count": null,
   "metadata": {},
   "outputs": [],
   "source": [
    "\n",
    "\n",
    "# Create pivot tables for both DataFrames\n",
    "\n",
    "pivot_time_value_random = time_value_random.pivot(index='distance', columns='sphere_radius', values='Mean_Score')\n",
    "pivot_time_value_opposite = time_value_opposite.pivot(index='distance', columns='sphere_radius', values='Mean_Score')\n",
    "pivot_time_value_random = pivot_time_value_random.sort_index(ascending=False)\n",
    "pivot_time_value_opposite = pivot_time_value_opposite.sort_index(ascending=False)\n",
    "\n",
    "# Set up the matplotlib figure with 1 row and 2 columns\n",
    "fig, axes = plt.subplots(1, 2, figsize=(12, 6))\n",
    "\n",
    "# Set the common vmin and vmax for the color bar\n",
    "vmin = min(pivot_time_value_random.min().min(), pivot_time_value_opposite.min().min())\n",
    "vmax = max(pivot_time_value_random.max().max(), pivot_time_value_opposite.max().max())\n",
    "\n",
    "\n",
    "# Create the first heatmap for col3 = 0 using seaborn\n",
    "sns.heatmap(data=pivot_time_value_random, annot=True, cmap='plasma', ax=axes[0], vmin=vmin, vmax=vmax)\n",
    "axes[0].set_title('Time for sample function = Random')\n",
    "\n",
    "# Create the second heatmap for col3 = 1 using seaborn\n",
    "sns.heatmap(data=pivot_time_value_opposite, annot=True, cmap='plasma', ax=axes[1], vmin=vmin, vmax=vmax)\n",
    "axes[1].set_title('Time for sample function = Opposite')\n",
    "\n",
    "# Adjust the layout\n",
    "plt.tight_layout()\n",
    "\n",
    "# Show the plot\n",
    "plt.show()"
   ]
  },
  {
   "cell_type": "markdown",
   "metadata": {},
   "source": [
    "### Median"
   ]
  },
  {
   "cell_type": "code",
   "execution_count": null,
   "metadata": {},
   "outputs": [],
   "source": [
    "# Create pivot tables for both DataFrames\n",
    "\n",
    "pivot_time_value_random = time_value_random.pivot(index='distance', columns='sphere_radius', values='Median_Score')\n",
    "pivot_time_value_opposite = time_value_opposite.pivot(index='distance', columns='sphere_radius', values='Median_Score')\n",
    "pivot_time_value_random = pivot_time_value_random.sort_index(ascending=False)\n",
    "pivot_time_value_opposite = pivot_time_value_opposite.sort_index(ascending=False)\n",
    "\n",
    "# Set up the matplotlib figure with 1 row and 2 columns\n",
    "fig, axes = plt.subplots(1, 2, figsize=(12, 6))\n",
    "\n",
    "# Set the common vmin and vmax for the color bar\n",
    "vmin = min(pivot_time_value_random.min().min(), pivot_time_value_opposite.min().min())\n",
    "vmax = max(pivot_time_value_random.max().max(), pivot_time_value_opposite.max().max())\n",
    "\n",
    "\n",
    "# Create the first heatmap for col3 = 0 using seaborn\n",
    "sns.heatmap(data=pivot_time_value_random, annot=True, cmap='plasma', ax=axes[0], vmin=vmin, vmax=vmax)\n",
    "axes[0].set_title('Time for sample function = Random')\n",
    "\n",
    "# Create the second heatmap for col3 = 1 using seaborn\n",
    "sns.heatmap(data=pivot_time_value_opposite, annot=True, cmap='plasma', ax=axes[1], vmin=vmin, vmax=vmax)\n",
    "axes[1].set_title('Time for sample function = Opposite')\n",
    "\n",
    "# Adjust the layout\n",
    "plt.tight_layout()\n",
    "\n",
    "# Show the plot\n",
    "plt.show()"
   ]
  },
  {
   "cell_type": "markdown",
   "metadata": {},
   "source": [
    "### Max"
   ]
  },
  {
   "cell_type": "code",
   "execution_count": null,
   "metadata": {},
   "outputs": [],
   "source": [
    "# Create pivot tables for both DataFrames\n",
    "\n",
    "pivot_time_value_random = time_value_random.pivot(index='distance', columns='sphere_radius', values='Max_Score')\n",
    "pivot_time_value_opposite = time_value_opposite.pivot(index='distance', columns='sphere_radius', values='Max_Score')\n",
    "pivot_time_value_random = pivot_time_value_random.sort_index(ascending=False)\n",
    "pivot_time_value_opposite = pivot_time_value_opposite.sort_index(ascending=False)\n",
    "\n",
    "# Set up the matplotlib figure with 1 row and 2 columns\n",
    "fig, axes = plt.subplots(1, 2, figsize=(12, 6))\n",
    "\n",
    "# Set the common vmin and vmax for the color bar\n",
    "vmin = min(pivot_time_value_random.min().min(), pivot_time_value_opposite.min().min())\n",
    "vmax = max(pivot_time_value_random.max().max(), pivot_time_value_opposite.max().max())\n",
    "\n",
    "\n",
    "# Create the first heatmap for col3 = 0 using seaborn\n",
    "sns.heatmap(data=pivot_time_value_random, annot=True, cmap='plasma', ax=axes[0], vmin=vmin, vmax=vmax)\n",
    "axes[0].set_title('Time for sample function = Random')\n",
    "\n",
    "# Create the second heatmap for col3 = 1 using seaborn\n",
    "sns.heatmap(data=pivot_time_value_opposite, annot=True, cmap='plasma', ax=axes[1], vmin=vmin, vmax=vmax)\n",
    "axes[1].set_title('Time for sample function = Opposite')\n",
    "\n",
    "# Adjust the layout\n",
    "plt.tight_layout()\n",
    "\n",
    "# Show the plot\n",
    "plt.show()"
   ]
  },
  {
   "cell_type": "markdown",
   "metadata": {},
   "source": [
    "### Min"
   ]
  },
  {
   "cell_type": "code",
   "execution_count": null,
   "metadata": {},
   "outputs": [],
   "source": [
    "# Create pivot tables for both DataFrames\n",
    "\n",
    "pivot_time_value_random = time_value_random.pivot(index='distance', columns='sphere_radius', values='Min_Score')\n",
    "pivot_time_value_opposite = time_value_opposite.pivot(index='distance', columns='sphere_radius', values='Min_Score')\n",
    "pivot_time_value_random = pivot_time_value_random.sort_index(ascending=False)\n",
    "pivot_time_value_opposite = pivot_time_value_opposite.sort_index(ascending=False)\n",
    "\n",
    "# Set up the matplotlib figure with 1 row and 2 columns\n",
    "fig, axes = plt.subplots(1, 2, figsize=(12, 6))\n",
    "\n",
    "# Set the common vmin and vmax for the color bar\n",
    "vmin = min(pivot_time_value_random.min().min(), pivot_time_value_opposite.min().min())\n",
    "vmax = max(pivot_time_value_random.max().max(), pivot_time_value_opposite.max().max())\n",
    "\n",
    "\n",
    "# Create the first heatmap for col3 = 0 using seaborn\n",
    "sns.heatmap(data=pivot_time_value_random, annot=True, cmap='plasma', ax=axes[0], vmin=vmin, vmax=vmax)\n",
    "axes[0].set_title('Time for sample function = Random')\n",
    "\n",
    "# Create the second heatmap for col3 = 1 using seaborn\n",
    "sns.heatmap(data=pivot_time_value_opposite, annot=True, cmap='plasma', ax=axes[1], vmin=vmin, vmax=vmax)\n",
    "axes[1].set_title('Time for sample function = Opposite')\n",
    "\n",
    "# Adjust the layout\n",
    "plt.tight_layout()\n",
    "\n",
    "# Show the plot\n",
    "plt.show()"
   ]
  },
  {
   "cell_type": "markdown",
   "metadata": {},
   "source": [
    "# Object specific performance"
   ]
  },
  {
   "cell_type": "code",
   "execution_count": null,
   "metadata": {},
   "outputs": [],
   "source": [
    "all.object.unique()"
   ]
  },
  {
   "cell_type": "markdown",
   "metadata": {},
   "source": [
    "## Probability Results"
   ]
  },
  {
   "cell_type": "markdown",
   "metadata": {},
   "source": [
    "### Mean"
   ]
  },
  {
   "cell_type": "code",
   "execution_count": null,
   "metadata": {},
   "outputs": [],
   "source": [
    "fig, axes = plt.subplots(len(all.object.unique()), 2, figsize=(18, 10))\n",
    "\n",
    "for object_index in range(len(all.object.unique())):\n",
    "    # Create pivot tables for both DataFrames\n",
    "\n",
    "    object_stats = all[all.object == all.object.unique()[object_index]].groupby(['sample_function', 'sphere_radius', 'distance']).agg(\n",
    "                    Mean_Score=('Probabilities', 'mean'),\n",
    "                    Median_Score=('Probabilities', 'median'),\n",
    "                    Std_Dev=('Probabilities', 'std'),\n",
    "                    Min_Score=('Probabilities', 'min'),\n",
    "                    Max_Score=('Probabilities', 'max'),\n",
    "                    Q1=('Probabilities', lambda x: x.quantile(0.25)),\n",
    "                    Q3=('Probabilities', lambda x: x.quantile(0.75)),\n",
    "                    IQR=('Probabilities', lambda x: x.quantile(0.75) - x.quantile(0.25))\n",
    "    ).reset_index()\n",
    "\n",
    "\n",
    "    object_value_random = object_stats[object_stats['sample_function'] == 'sample_finger_poses_random']\n",
    "    object_value_opposite = object_stats[object_stats['sample_function'] == 'sample_finger_poses_opposite']\n",
    "\n",
    "    # Create pivot tables for both DataFrames\n",
    "    pivot_df_value_random = object_value_random.pivot(index='distance', columns='sphere_radius', values='Mean_Score')\n",
    "    pivot_df_value_opposite = object_value_opposite.pivot(index='distance', columns='sphere_radius', values='Mean_Score')\n",
    "\n",
    "    # Set up the matplotlib figure with 1 row and 2 columns\n",
    "\n",
    "    # Create the first heatmap for col3 = 0 using seaborn\n",
    "    sns.heatmap(data=pivot_df_value_random, annot=True, cmap='PuRd', ax=axes[object_index][0], vmin=0, vmax=1)\n",
    "    axes[object_index][0].set_title(str(all.object.unique()[object_index]) + ' Mean - sample function = Random')\n",
    "\n",
    "    # Create the second heatmap for col3 = 1 using seaborn\n",
    "    sns.heatmap(data=pivot_df_value_opposite, annot=True, cmap='PuRd', ax=axes[object_index][1], vmin=0, vmax=1)\n",
    "    axes[object_index][1].set_title(str(all.object.unique()[object_index]) + 'Mean for sample function = Opposite')\n",
    "\n",
    "    # Adjust the layout\n",
    "    plt.tight_layout()\n",
    "\n",
    "# Show the plot\n",
    "plt.show()"
   ]
  },
  {
   "cell_type": "markdown",
   "metadata": {},
   "source": [
    "### Median"
   ]
  },
  {
   "cell_type": "code",
   "execution_count": null,
   "metadata": {},
   "outputs": [],
   "source": [
    "fig, axes = plt.subplots(len(all.object.unique()), 2, figsize=(18, 10))\n",
    "\n",
    "for object_index in range(len(all.object.unique())):\n",
    "    # Create pivot tables for both DataFrames\n",
    "\n",
    "    object_stats = all[all.object == all.object.unique()[object_index]].groupby(['sample_function', 'sphere_radius', 'distance']).agg(\n",
    "                    Mean_Score=('Probabilities', 'mean'),\n",
    "                    Median_Score=('Probabilities', 'median'),\n",
    "                    Std_Dev=('Probabilities', 'std'),\n",
    "                    Min_Score=('Probabilities', 'min'),\n",
    "                    Max_Score=('Probabilities', 'max'),\n",
    "                    Q1=('Probabilities', lambda x: x.quantile(0.25)),\n",
    "                    Q3=('Probabilities', lambda x: x.quantile(0.75)),\n",
    "                    IQR=('Probabilities', lambda x: x.quantile(0.75) - x.quantile(0.25))\n",
    "    ).reset_index()\n",
    "\n",
    "\n",
    "    object_value_random = object_stats[object_stats['sample_function'] == 'sample_finger_poses_random']\n",
    "    object_value_opposite = object_stats[object_stats['sample_function'] == 'sample_finger_poses_opposite']\n",
    "\n",
    "    # Create pivot tables for both DataFrames\n",
    "    pivot_df_value_random = object_value_random.pivot(index='distance', columns='sphere_radius', values='Median_Score')\n",
    "    pivot_df_value_opposite = object_value_opposite.pivot(index='distance', columns='sphere_radius', values='Median_Score')\n",
    "\n",
    "    # Set up the matplotlib figure with 1 row and 2 columns\n",
    "\n",
    "    # Create the first heatmap for col3 = 0 using seaborn\n",
    "    sns.heatmap(data=pivot_df_value_random, annot=True, cmap='PuRd', ax=axes[object_index][0], vmin=0, vmax=1)\n",
    "    axes[object_index][0].set_title(str(all.object.unique()[object_index]) + ' Median - sample function = Random')\n",
    "\n",
    "    # Create the second heatmap for col3 = 1 using seaborn\n",
    "    sns.heatmap(data=pivot_df_value_opposite, annot=True, cmap='PuRd', ax=axes[object_index][1], vmin=0, vmax=1)\n",
    "    axes[object_index][1].set_title(str(all.object.unique()[object_index]) + 'Median for sample function = Opposite')\n",
    "\n",
    "    # Adjust the layout\n",
    "    plt.tight_layout()\n",
    "\n",
    "# Show the plot\n",
    "plt.show()"
   ]
  },
  {
   "cell_type": "markdown",
   "metadata": {},
   "source": [
    "### Max"
   ]
  },
  {
   "cell_type": "code",
   "execution_count": null,
   "metadata": {},
   "outputs": [],
   "source": [
    "fig, axes = plt.subplots(len(all.object.unique()), 2, figsize=(18, 10))\n",
    "\n",
    "for object_index in range(len(all.object.unique())):\n",
    "    # Create pivot tables for both DataFrames\n",
    "\n",
    "    object_stats = all[all.object == all.object.unique()[object_index]].groupby(['sample_function', 'sphere_radius', 'distance']).agg(\n",
    "                    Mean_Score=('Probabilities', 'mean'),\n",
    "                    Median_Score=('Probabilities', 'median'),\n",
    "                    Std_Dev=('Probabilities', 'std'),\n",
    "                    Min_Score=('Probabilities', 'min'),\n",
    "                    Max_Score=('Probabilities', 'max'),\n",
    "                    Q1=('Probabilities', lambda x: x.quantile(0.25)),\n",
    "                    Q3=('Probabilities', lambda x: x.quantile(0.75)),\n",
    "                    IQR=('Probabilities', lambda x: x.quantile(0.75) - x.quantile(0.25))\n",
    "    ).reset_index()\n",
    "\n",
    "\n",
    "    object_value_random = object_stats[object_stats['sample_function'] == 'sample_finger_poses_random']\n",
    "    object_value_opposite = object_stats[object_stats['sample_function'] == 'sample_finger_poses_opposite']\n",
    "\n",
    "    # Create pivot tables for both DataFrames\n",
    "    pivot_df_value_random = object_value_random.pivot(index='distance', columns='sphere_radius', values='Max_Score')\n",
    "    pivot_df_value_opposite = object_value_opposite.pivot(index='distance', columns='sphere_radius', values='Max_Score')\n",
    "\n",
    "    # Set up the matplotlib figure with 1 row and 2 columns\n",
    "\n",
    "    # Create the first heatmap for col3 = 0 using seaborn\n",
    "    sns.heatmap(data=pivot_df_value_random, annot=True, cmap='PuRd', ax=axes[object_index][0], vmin=0, vmax=1)\n",
    "    axes[object_index][0].set_title(str(all.object.unique()[object_index]) + ' Max - sample function = Random')\n",
    "\n",
    "    # Create the second heatmap for col3 = 1 using seaborn\n",
    "    sns.heatmap(data=pivot_df_value_opposite, annot=True, cmap='PuRd', ax=axes[object_index][1], vmin=0, vmax=1)\n",
    "    axes[object_index][1].set_title(str(all.object.unique()[object_index]) + 'Max for sample function = Opposite')\n",
    "\n",
    "    # Adjust the layout\n",
    "    plt.tight_layout()\n",
    "\n",
    "# Show the plot\n",
    "plt.show()"
   ]
  },
  {
   "cell_type": "markdown",
   "metadata": {},
   "source": [
    "## Time"
   ]
  },
  {
   "cell_type": "markdown",
   "metadata": {},
   "source": [
    "### Mean"
   ]
  },
  {
   "cell_type": "code",
   "execution_count": null,
   "metadata": {},
   "outputs": [],
   "source": [
    "fig, axes = plt.subplots(len(all.object.unique()), 2, figsize=(18, 10))\n",
    "\n",
    "for object_index in range(len(all.object.unique())):\n",
    "    # Create pivot tables for both DataFrames\n",
    "\n",
    "    time_stats = all[all.object == all.object.unique()[object_index]].groupby(['sample_function', 'sphere_radius', 'distance']).agg(\n",
    "    Mean_Score=('hours', 'mean'),\n",
    "    Median_Score=('hours', 'median'),\n",
    "    Std_Dev=('hours', 'std'),\n",
    "    Min_Score=('hours', 'min'),\n",
    "    Max_Score=('hours', 'max'),\n",
    "    Q1=('hours', lambda x: x.quantile(0.25)),\n",
    "    Q3=('hours', lambda x: x.quantile(0.75)),\n",
    "    IQR=('hours', lambda x: x.quantile(0.75) - x.quantile(0.25))\n",
    "    ).reset_index()\n",
    "\n",
    "    time_value_random = time_stats[time_stats['sample_function'] == 'sample_finger_poses_random']\n",
    "    time_value_opposite = time_stats[time_stats['sample_function'] == 'sample_finger_poses_opposite']\n",
    "\n",
    "\n",
    "\n",
    "    # Create pivot tables for both DataFrames\n",
    "\n",
    "    pivot_time_value_random = time_value_random.pivot(index='distance', columns='sphere_radius', values='Mean_Score')\n",
    "    pivot_time_value_opposite = time_value_opposite.pivot(index='distance', columns='sphere_radius', values='Mean_Score')\n",
    "    pivot_time_value_random = pivot_time_value_random.sort_index(ascending=False)\n",
    "    pivot_time_value_opposite = pivot_time_value_opposite.sort_index(ascending=False)\n",
    "\n",
    "    # Set the common vmin and vmax for the color bar\n",
    "    vmin = min(pivot_time_value_random.min().min(), pivot_time_value_opposite.min().min())\n",
    "    vmax = max(pivot_time_value_random.max().max(), pivot_time_value_opposite.max().max())\n",
    "\n",
    "\n",
    "    # Create the first heatmap for col3 = 0 using seaborn\n",
    "    \n",
    "    sns.heatmap(data=pivot_time_value_random, annot=True, cmap='PuRd', ax=axes[object_index][0], vmin=vmin, vmax=vmax)\n",
    "    axes[object_index][0].set_title(str(all.object.unique()[object_index]) + ' Mean Time - sample function = Random')\n",
    "\n",
    "\n",
    "    sns.heatmap(data=pivot_time_value_opposite, annot=True, cmap='PuRd', ax=axes[object_index][1], vmin=vmin, vmax=vmax)\n",
    "    axes[object_index][1].set_title(str(all.object.unique()[object_index]) + ' Mean Time - sample function = Opposite')\n",
    "    # Adjust the layout\n",
    "    plt.tight_layout()\n",
    "\n",
    "# Show the plot\n",
    "plt.show()\n",
    "\n",
    "\n"
   ]
  },
  {
   "cell_type": "markdown",
   "metadata": {},
   "source": [
    "### Median"
   ]
  },
  {
   "cell_type": "code",
   "execution_count": null,
   "metadata": {},
   "outputs": [],
   "source": [
    "fig, axes = plt.subplots(len(all.object.unique()), 2, figsize=(18, 10))\n",
    "\n",
    "for object_index in range(len(all.object.unique())):\n",
    "    # Create pivot tables for both DataFrames\n",
    "\n",
    "    time_stats = all[all.object == all.object.unique()[object_index]].groupby(['sample_function', 'sphere_radius', 'distance']).agg(\n",
    "    Mean_Score=('hours', 'mean'),\n",
    "    Median_Score=('hours', 'median'),\n",
    "    Std_Dev=('hours', 'std'),\n",
    "    Min_Score=('hours', 'min'),\n",
    "    Max_Score=('hours', 'max'),\n",
    "    Q1=('hours', lambda x: x.quantile(0.25)),\n",
    "    Q3=('hours', lambda x: x.quantile(0.75)),\n",
    "    IQR=('hours', lambda x: x.quantile(0.75) - x.quantile(0.25))\n",
    "    ).reset_index()\n",
    "\n",
    "    time_value_random = time_stats[time_stats['sample_function'] == 'sample_finger_poses_random']\n",
    "    time_value_opposite = time_stats[time_stats['sample_function'] == 'sample_finger_poses_opposite']\n",
    "\n",
    "\n",
    "\n",
    "    # Create pivot tables for both DataFrames\n",
    "\n",
    "    pivot_time_value_random = time_value_random.pivot(index='distance', columns='sphere_radius', values='Median_Score')\n",
    "    pivot_time_value_opposite = time_value_opposite.pivot(index='distance', columns='sphere_radius', values='Median_Score')\n",
    "    pivot_time_value_random = pivot_time_value_random.sort_index(ascending=False)\n",
    "    pivot_time_value_opposite = pivot_time_value_opposite.sort_index(ascending=False)\n",
    "\n",
    "    # Set the common vmin and vmax for the color bar\n",
    "    vmin = min(pivot_time_value_random.min().min(), pivot_time_value_opposite.min().min())\n",
    "    vmax = max(pivot_time_value_random.max().max(), pivot_time_value_opposite.max().max())\n",
    "\n",
    "\n",
    "    # Create the first heatmap for col3 = 0 using seaborn\n",
    "    \n",
    "    sns.heatmap(data=pivot_time_value_random, annot=True, cmap='PuRd', ax=axes[object_index][0], vmin=vmin, vmax=vmax)\n",
    "    axes[object_index][0].set_title(str(all.object.unique()[object_index]) + ' Median Time - sample function = Random')\n",
    "\n",
    "\n",
    "    sns.heatmap(data=pivot_time_value_opposite, annot=True, cmap='PuRd', ax=axes[object_index][1], vmin=vmin, vmax=vmax)\n",
    "    axes[object_index][1].set_title(str(all.object.unique()[object_index]) + ' Median Time - sample function = Opposite')\n",
    "    # Adjust the layout\n",
    "    plt.tight_layout()\n",
    "\n",
    "# Show the plot\n",
    "plt.show()\n",
    "\n",
    "\n"
   ]
  },
  {
   "cell_type": "markdown",
   "metadata": {},
   "source": [
    "### Max"
   ]
  },
  {
   "cell_type": "code",
   "execution_count": null,
   "metadata": {},
   "outputs": [],
   "source": [
    "fig, axes = plt.subplots(len(all.object.unique()), 2, figsize=(18, 10))\n",
    "\n",
    "for object_index in range(len(all.object.unique())):\n",
    "    # Create pivot tables for both DataFrames\n",
    "\n",
    "    time_stats = all[all.object == all.object.unique()[object_index]].groupby(['sample_function', 'sphere_radius', 'distance']).agg(\n",
    "    Mean_Score=('hours', 'mean'),\n",
    "    Median_Score=('hours', 'median'),\n",
    "    Std_Dev=('hours', 'std'),\n",
    "    Min_Score=('hours', 'min'),\n",
    "    Max_Score=('hours', 'max'),\n",
    "    Q1=('hours', lambda x: x.quantile(0.25)),\n",
    "    Q3=('hours', lambda x: x.quantile(0.75)),\n",
    "    IQR=('hours', lambda x: x.quantile(0.75) - x.quantile(0.25))\n",
    "    ).reset_index()\n",
    "\n",
    "    time_value_random = time_stats[time_stats['sample_function'] == 'sample_finger_poses_random']\n",
    "    time_value_opposite = time_stats[time_stats['sample_function'] == 'sample_finger_poses_opposite']\n",
    "\n",
    "\n",
    "\n",
    "    # Create pivot tables for both DataFrames\n",
    "\n",
    "    pivot_time_value_random = time_value_random.pivot(index='distance', columns='sphere_radius', values='Max_Score')\n",
    "    pivot_time_value_opposite = time_value_opposite.pivot(index='distance', columns='sphere_radius', values='Max_Score')\n",
    "    pivot_time_value_random = pivot_time_value_random.sort_index(ascending=False)\n",
    "    pivot_time_value_opposite = pivot_time_value_opposite.sort_index(ascending=False)\n",
    "\n",
    "    # Set the common vmin and vmax for the color bar\n",
    "    vmin = min(pivot_time_value_random.min().min(), pivot_time_value_opposite.min().min())\n",
    "    vmax = max(pivot_time_value_random.max().max(), pivot_time_value_opposite.max().max())\n",
    "\n",
    "\n",
    "    # Create the first heatmap for col3 = 0 using seaborn\n",
    "    \n",
    "    sns.heatmap(data=pivot_time_value_random, annot=True, cmap='PuRd', ax=axes[object_index][0], vmin=vmin, vmax=vmax)\n",
    "    axes[object_index][0].set_title(str(all.object.unique()[object_index]) + ' Max Time - sample function = Random')\n",
    "\n",
    "\n",
    "    sns.heatmap(data=pivot_time_value_opposite, annot=True, cmap='PuRd', ax=axes[object_index][1], vmin=vmin, vmax=vmax)\n",
    "    axes[object_index][1].set_title(str(all.object.unique()[object_index]) + ' Max Time - sample function = Opposite')\n",
    "    # Adjust the layout\n",
    "    plt.tight_layout()\n",
    "\n",
    "# Show the plot\n",
    "plt.show()\n",
    "\n",
    "\n"
   ]
  },
  {
   "cell_type": "markdown",
   "metadata": {},
   "source": [
    "### Min"
   ]
  },
  {
   "cell_type": "code",
   "execution_count": null,
   "metadata": {},
   "outputs": [],
   "source": [
    "fig, axes = plt.subplots(len(all.object.unique()), 2, figsize=(18, 10))\n",
    "\n",
    "for object_index in range(len(all.object.unique())):\n",
    "    # Create pivot tables for both DataFrames\n",
    "\n",
    "    time_stats = all[all.object == all.object.unique()[object_index]].groupby(['sample_function', 'sphere_radius', 'distance']).agg(\n",
    "    Mean_Score=('hours', 'mean'),\n",
    "    Median_Score=('hours', 'median'),\n",
    "    Std_Dev=('hours', 'std'),\n",
    "    Min_Score=('hours', 'min'),\n",
    "    Max_Score=('hours', 'max'),\n",
    "    Q1=('hours', lambda x: x.quantile(0.25)),\n",
    "    Q3=('hours', lambda x: x.quantile(0.75)),\n",
    "    IQR=('hours', lambda x: x.quantile(0.75) - x.quantile(0.25))\n",
    "    ).reset_index()\n",
    "\n",
    "    time_value_random = time_stats[time_stats['sample_function'] == 'sample_finger_poses_random']\n",
    "    time_value_opposite = time_stats[time_stats['sample_function'] == 'sample_finger_poses_opposite']\n",
    "\n",
    "\n",
    "\n",
    "    # Create pivot tables for both DataFrames\n",
    "\n",
    "    pivot_time_value_random = time_value_random.pivot(index='distance', columns='sphere_radius', values='Min_Score')\n",
    "    pivot_time_value_opposite = time_value_opposite.pivot(index='distance', columns='sphere_radius', values='Min_Score')\n",
    "    pivot_time_value_random = pivot_time_value_random.sort_index(ascending=False)\n",
    "    pivot_time_value_opposite = pivot_time_value_opposite.sort_index(ascending=False)\n",
    "\n",
    "    # Set the common vmin and vmax for the color bar\n",
    "    vmin = min(pivot_time_value_random.min().min(), pivot_time_value_opposite.min().min())\n",
    "    vmax = max(pivot_time_value_random.max().max(), pivot_time_value_opposite.max().max())\n",
    "\n",
    "\n",
    "    # Create the first heatmap for col3 = 0 using seaborn\n",
    "    \n",
    "    sns.heatmap(data=pivot_time_value_random, annot=True, cmap='PuRd', ax=axes[object_index][0], vmin=vmin, vmax=vmax)\n",
    "    axes[object_index][0].set_title(str(all.object.unique()[object_index]) + ' Min Time - sample function = Random')\n",
    "\n",
    "\n",
    "    sns.heatmap(data=pivot_time_value_opposite, annot=True, cmap='PuRd', ax=axes[object_index][1], vmin=vmin, vmax=vmax)\n",
    "    axes[object_index][1].set_title(str(all.object.unique()[object_index]) + ' Minn Time - sample function = Opposite')\n",
    "    # Adjust the layout\n",
    "    plt.tight_layout()\n",
    "\n",
    "# Show the plot\n",
    "plt.show()\n",
    "\n",
    "\n"
   ]
  },
  {
   "cell_type": "code",
   "execution_count": null,
   "metadata": {},
   "outputs": [],
   "source": [
    "pivot_time_value_opposite.max().max()"
   ]
  },
  {
   "cell_type": "markdown",
   "metadata": {},
   "source": [
    "# Hypothesis testings - Statistical Tests\n",
    "\n",
    "**Sampling strategy**  \n",
    "Is there significant evidence of a difference in `mean`/`median`/`max` (?) probability score for **random** and **opposite** sampling strategy in the LoCoMo algorithm?\n",
    "\n",
    "Hypotheses:\n",
    "$$H_0: \\mu_R=\\mu_O\\\\\n",
    "H_A:\\mu_R\\neq\\mu_O$$\n",
    "\n",
    "Statistical test: t-test.    \n",
    "\n",
    "The variable `Probabilities` is a quantitative variable where there are results from 2 groups: results from LoCoMo algorithm using the **Random** sampling stratgey and results from the algorithm using the **Opposite** sampling strategy."
   ]
  },
  {
   "cell_type": "code",
   "execution_count": null,
   "metadata": {},
   "outputs": [],
   "source": [
    "random_prob = sorted(list(all[all.sample_function=='sample_finger_poses_random'].Probabilities), reverse=True)[:10]\n",
    "opposite_prob = sorted(list(all[all.sample_function=='sample_finger_poses_opposite'].Probabilities), reverse=True)[:10]"
   ]
  },
  {
   "cell_type": "code",
   "execution_count": null,
   "metadata": {},
   "outputs": [],
   "source": [
    "from statistics import stdev\n",
    "\n",
    "print(len(random_prob), 'probability results with random strategy with mean=', np.mean(random_prob), ' and stdev = ', stdev(random_prob))\n",
    "print(len(opposite_prob), 'probability results with opposite strategy with mean=', np.mean(opposite_prob), ' and stdev = ', stdev(opposite_prob))"
   ]
  },
  {
   "cell_type": "markdown",
   "metadata": {},
   "source": [
    "Run the $t$-test"
   ]
  },
  {
   "cell_type": "code",
   "execution_count": null,
   "metadata": {},
   "outputs": [],
   "source": [
    "from scipy.stats import ttest_ind\n",
    "\n",
    "t_statistic, p_value = ttest_ind(opposite_prob, random_prob, equal_var=False)\n",
    "print('t = ', t_statistic)\n",
    "print('p_value = ', p_value)"
   ]
  },
  {
   "cell_type": "code",
   "execution_count": null,
   "metadata": {},
   "outputs": [],
   "source": [
    "print(np.mean(random_prob), ' vs. ', np.mean(opposite_prob))"
   ]
  },
  {
   "cell_type": "code",
   "execution_count": null,
   "metadata": {},
   "outputs": [],
   "source": [
    "cmap = 'viridis'\n",
    "\n",
    "plt.hist(random_prob, bins=100, label='random', alpha=0.6, color='red')\n",
    "plt.hist(opposite_prob, bins=100, label='opposite', alpha=0.6, color='blue') \n",
    "\n",
    "# Set labels and title for the plot\n",
    "plt.xlabel('LoCoMo Probability Scores')\n",
    "plt.ylabel('Frequency')\n",
    "plt.title('Distribution of Scores')\n",
    "plt.legend(loc='best')\n",
    "# Show the plot\n",
    "plt.show()\n"
   ]
  },
  {
   "cell_type": "markdown",
   "metadata": {},
   "source": [
    "Math check..."
   ]
  },
  {
   "cell_type": "code",
   "execution_count": null,
   "metadata": {},
   "outputs": [],
   "source": [
    "mean_diff = np.mean(random_prob) - np.mean(opposite_prob)\n",
    "mean_diff"
   ]
  },
  {
   "cell_type": "code",
   "execution_count": null,
   "metadata": {},
   "outputs": [],
   "source": [
    "std1 = np.std(random_prob, ddof=1)\n",
    "std2 = np.std(opposite_prob, ddof=1)\n",
    "print('std1 =', std1, ', std2 = ', std2)"
   ]
  },
  {
   "cell_type": "code",
   "execution_count": null,
   "metadata": {},
   "outputs": [],
   "source": [
    "n1 = len(random_prob)\n",
    "n2 = len(opposite_prob)\n",
    "print('n1 =', n1, ', n2 = ', n2)"
   ]
  },
  {
   "cell_type": "code",
   "execution_count": null,
   "metadata": {},
   "outputs": [],
   "source": [
    "denominator = np.sqrt(((std1**2)/n1) + (std2**2/n2))\n",
    "denominator"
   ]
  },
  {
   "cell_type": "code",
   "execution_count": null,
   "metadata": {},
   "outputs": [],
   "source": [
    "t = mean_diff/denominator\n",
    "t"
   ]
  },
  {
   "cell_type": "code",
   "execution_count": null,
   "metadata": {},
   "outputs": [],
   "source": [
    "max(list(opposite_prob))"
   ]
  },
  {
   "cell_type": "code",
   "execution_count": null,
   "metadata": {},
   "outputs": [],
   "source": [
    "max(list(random_prob))"
   ]
  },
  {
   "cell_type": "code",
   "execution_count": null,
   "metadata": {},
   "outputs": [],
   "source": [
    "all[all.Probabilities==1]"
   ]
  },
  {
   "cell_type": "markdown",
   "metadata": {},
   "source": [
    "## Distance"
   ]
  },
  {
   "cell_type": "code",
   "execution_count": null,
   "metadata": {},
   "outputs": [],
   "source": [
    "from scipy.stats import f_oneway\n",
    "distances = all.distance.unique()"
   ]
  },
  {
   "cell_type": "code",
   "execution_count": null,
   "metadata": {},
   "outputs": [],
   "source": [
    "\n",
    "f_oneway(all[all.distance==distances[0]].Probabilities,\n",
    "            all[all.distance==distances[1]].Probabilities,\n",
    "            all[all.distance==distances[2]].Probabilities)"
   ]
  },
  {
   "cell_type": "code",
   "execution_count": null,
   "metadata": {},
   "outputs": [],
   "source": [
    "cmap = 'viridis'\n",
    "\n",
    "plt.hist(all[all.distance==distances[0]].Probabilities, bins=100, label=distances[0], alpha=0.6, color='red')\n",
    "plt.hist(all[all.distance==distances[1]].Probabilities, bins=100, label=distances[1], alpha=0.6, color='blue') \n",
    "plt.hist(all[all.distance==distances[2]].Probabilities, bins=100, label=distances[2], alpha=0.6, color='green') \n",
    "\n",
    "# Set labels and title for the plot\n",
    "plt.xlabel('LoCoMo Probability Scores')\n",
    "plt.ylabel('Frequency')\n",
    "plt.title('Distribution of Scores')\n",
    "plt.legend(loc='best')\n",
    "# Show the plot\n",
    "plt.show()\n"
   ]
  },
  {
   "cell_type": "markdown",
   "metadata": {},
   "source": [
    "## Sphere Radius"
   ]
  },
  {
   "cell_type": "code",
   "execution_count": null,
   "metadata": {},
   "outputs": [],
   "source": [
    "radius = all.sphere_radius.unique()\n",
    "radius"
   ]
  },
  {
   "cell_type": "code",
   "execution_count": null,
   "metadata": {},
   "outputs": [],
   "source": [
    "\n",
    "f_oneway(all[all.sphere_radius==radius[0]].Probabilities,\n",
    "            all[all.sphere_radius==radius[1]].Probabilities,\n",
    "            all[all.sphere_radius==radius[2]].Probabilities)"
   ]
  },
  {
   "cell_type": "code",
   "execution_count": null,
   "metadata": {},
   "outputs": [],
   "source": [
    "cmap = 'viridis'\n",
    "\n",
    "plt.hist(all[all.sphere_radius==radius[0]].Probabilities, bins=100, label=radius[0], alpha=0.6, color='mediumpurple')\n",
    "plt.hist(all[all.sphere_radius==radius[1]].Probabilities, bins=100, label=radius[1], alpha=0.6, color='blue') \n",
    "plt.hist(all[all.sphere_radius==radius[2]].Probabilities, bins=100, label=radius[2], alpha=0.6, color='lightseagreen') \n",
    "\n",
    "# Set labels and title for the plot\n",
    "plt.xlabel('LoCoMo Probability Scores')\n",
    "plt.ylabel('Frequency')\n",
    "plt.title('Distribution of Scores')\n",
    "plt.legend(loc='best')\n",
    "# Show the plot\n",
    "plt.show()\n"
   ]
  },
  {
   "cell_type": "markdown",
   "metadata": {},
   "source": [
    "## Test whether there is a significance for the object"
   ]
  },
  {
   "cell_type": "code",
   "execution_count": null,
   "metadata": {},
   "outputs": [],
   "source": [
    "objects = all.object.unique()\n",
    "objects\n"
   ]
  },
  {
   "cell_type": "code",
   "execution_count": null,
   "metadata": {},
   "outputs": [],
   "source": [
    "f_oneway(all[all.objects==objects[0]].Probabilities,\n",
    "            all[all.object==objects[1]].Probabilities,\n",
    "            all[all.object==objects[2]].Probabilities,\n",
    "            all[all.object==objects[3]].Probabilities)"
   ]
  },
  {
   "cell_type": "markdown",
   "metadata": {},
   "source": [
    "### Influence of parameters on objects"
   ]
  },
  {
   "cell_type": "markdown",
   "metadata": {},
   "source": [
    "**Sampling strategy**"
   ]
  },
  {
   "cell_type": "code",
   "execution_count": null,
   "metadata": {},
   "outputs": [],
   "source": [
    "for object_index in range(len(objects)):\n",
    "    random_prob = sorted(list(all[all.sample_function=='sample_finger_poses_random' and all.object==objects[object_index]].Probabilities), reverse=True)[:10]\n",
    "    opposite_prob = sorted(list(all[all.sample_function=='sample_finger_poses_opposite' and all.object==objects[object_index]].Probabilities), reverse=True)[:10]\n",
    "\n",
    "    t_statistic, p_value = ttest_ind(opposite_prob, random_prob, equal_var=False)\n",
    "    print('Object = ', objects[object_index])\n",
    "    print(' t = ', t_statistic)\n",
    "    print(' p_value = ', p_value)"
   ]
  },
  {
   "cell_type": "markdown",
   "metadata": {},
   "source": [
    "**Distance**"
   ]
  },
  {
   "cell_type": "code",
   "execution_count": null,
   "metadata": {},
   "outputs": [],
   "source": [
    "for object_index in range(len(objects)):\n",
    "\n",
    "\n",
    "    f, p_value = f_oneway(   all[all.distance==distances[0] and all.object==objects[object_index]].Probabilities,\n",
    "                all[all.distance==distances[1] and all.object==objects[object_index]].Probabilities,\n",
    "                all[all.distance==distances[2] and all.object==objects[object_index]].Probabilities)\n",
    "    \n",
    "    print('Object = ', objects[object_index])\n",
    "    print(' f = ', t_statistic)\n",
    "    print(' p_value = ', p_value)"
   ]
  },
  {
   "cell_type": "markdown",
   "metadata": {},
   "source": [
    "**Sphere radius**"
   ]
  },
  {
   "cell_type": "code",
   "execution_count": null,
   "metadata": {},
   "outputs": [],
   "source": [
    "for object_index in range(len(objects)):\n",
    "\n",
    "\n",
    "    f, p_value = f_oneway(  all[all.sphere_radius==radius[0] and all.object==objects[object_index]].Probabilities,\n",
    "                            all[all.sphere_radius==radius[1] and all.object==objects[object_index]].Probabilities,\n",
    "                            all[all.sphere_radius==radius[2] and all.object==objects[object_index]].Probabilities)\n",
    "    \n",
    "    print('Object = ', objects[object_index])\n",
    "    print(' f = ', t_statistic)\n",
    "    print(' p_value = ', p_value)"
   ]
  },
  {
   "cell_type": "markdown",
   "metadata": {},
   "source": []
  }
 ],
 "metadata": {
  "kernelspec": {
   "display_name": "Python 3",
   "language": "python",
   "name": "python3"
  },
  "language_info": {
   "codemirror_mode": {
    "name": "ipython",
    "version": 3
   },
   "file_extension": ".py",
   "mimetype": "text/x-python",
   "name": "python",
   "nbconvert_exporter": "python",
   "pygments_lexer": "ipython3",
   "version": "3.6.9"
  }
 },
 "nbformat": 4,
 "nbformat_minor": 2
}
